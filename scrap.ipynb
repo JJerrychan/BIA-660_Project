{
 "cells": [
  {
   "cell_type": "code",
   "execution_count": 1,
   "metadata": {},
   "outputs": [],
   "source": [
    "import requests\n",
    "\n",
    "def get_data():\n",
    "    api_endpoint ='https://api.indeed.com/ads/apisearch'\n",
    "\n",
    "    params = {\n",
    "        'publisher': '448947293830904',\n",
    "        'q': 'java+developer',\n",
    "        'l': 'ny',\n",
    "        'jt': 'fulltime',\n",
    "        'limit': 25,\n",
    "        'start': 0 ,\n",
    "        'co': 'us',\n",
    "        'userip': '1.2.3.4',\n",
    "        'format': 'json',\n",
    "        'useragent': 'Chrome',\n",
    "        'v': 2\n",
    "    }\n",
    "\n",
    "    for i in range(40):\n",
    "        response = requests.get(api_endpoint,\n",
    "                                params=params)\n",
    "        params['start'] += 25\n",
    "    return response.json()\n",
    "get_data()"
   ]
  }
 ],
 "metadata": {
  "interpreter": {
   "hash": "b36852e87d1cbbd6c26ab8e7b3c8b6efc5490282603c123d4442cd4db72eb730"
  },
  "kernelspec": {
   "display_name": "Python 3.9.12 ('base')",
   "language": "python",
   "name": "python3"
  },
  "language_info": {
   "codemirror_mode": {
    "name": "ipython",
    "version": 3
   },
   "file_extension": ".py",
   "mimetype": "text/x-python",
   "name": "python",
   "nbconvert_exporter": "python",
   "pygments_lexer": "ipython3",
   "version": "3.9.12"
  },
  "orig_nbformat": 4
 },
 "nbformat": 4,
 "nbformat_minor": 2
}
