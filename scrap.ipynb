{
 "cells": [
  {
   "cell_type": "code",
   "execution_count": 112,
   "metadata": {},
   "outputs": [],
   "source": [
    "import numpy as np\n",
    "import pandas as pd\n",
    "import requests\n",
    "from sklearn.preprocessing import normalize\n",
    "from sklearn.metrics import pairwise_distances\n",
    "from selenium import webdriver\n",
    "from selenium.webdriver.common.by import By\n",
    "import ast\n",
    "import spacy\n",
    "import re\n",
    "from sklearn.feature_extraction.text import TfidfVectorizer\n",
    "from sklearn import metrics\n",
    "from nltk.corpus import stopwords\n",
    "from nltk.cluster import KMeansClusterer, cosine_distance\n",
    "from sklearn.cluster import KMeans\n",
    "import matplotlib.pyplot as plt"
   ]
  },
  {
   "cell_type": "code",
   "execution_count": 11,
   "metadata": {},
   "outputs": [],
   "source": [
    "import requests\n",
    "import pandas as pd\n",
    "\n",
    "def get_data():\n",
    "    api_endpoint ='https://api.indeed.com/ads/apisearch'\n",
    "\n",
    "    params = {\n",
    "        'publisher': '448947293830904',\n",
    "        'q': 'SDE',\n",
    "        'l': 'ny',\n",
    "        'jt': 'fulltime',\n",
    "        'limit': 25,\n",
    "        'start': 0 ,\n",
    "        'radius': 100,\n",
    "        'co': 'us',\n",
    "        'userip': '1.2.3.4',\n",
    "        'format': 'json',\n",
    "        'useragent': 'Chrome',\n",
    "        'v': 2\n",
    "    }\n",
    "\n",
    "    rows = []\n",
    "    for i in range(40):\n",
    "        response = requests.get(api_endpoint, params=params)\n",
    "        rows.extend(response.json()['results'])\n",
    "\n",
    "        params['start'] += 25\n",
    "\n",
    "    tb = pd.DataFrame(rows)\n",
    "    tb.to_csv('db.csv')\n",
    "\n",
    "    "
   ]
  },
  {
   "cell_type": "code",
   "execution_count": 12,
   "metadata": {},
   "outputs": [],
   "source": [
    "get_data()"
   ]
  },
  {
   "cell_type": "code",
   "execution_count": 6,
   "metadata": {},
   "outputs": [],
   "source": [
    "from selenium import webdriver\n",
    "from selenium.webdriver.common.by import By\n",
    "\n",
    "def get_description(page_url):\n",
    "    \n",
    "    \n",
    "    # enter your codes here\n",
    "    executable_path = '/opt/homebrew/bin/chromedriver'\n",
    "\n",
    "    driver = webdriver.Chrome(executable_path=executable_path)\n",
    "\n",
    "    driver.get(page_url)\n",
    "\n",
    "    description = driver.find_element(By.CSS_SELECTOR, \"div.jobsearch-jobDescriptionText\")\n",
    "    \n",
    "    return description.text"
   ]
  },
  {
   "cell_type": "code",
   "execution_count": 8,
   "metadata": {},
   "outputs": [
    {
     "name": "stderr",
     "output_type": "stream",
     "text": [
      "/var/folders/dc/wvln0gc568s99mg6ck45xlfc0000gn/T/ipykernel_17315/423266675.py:10: DeprecationWarning: executable_path has been deprecated, please pass in a Service object\n",
      "  driver = webdriver.Chrome(executable_path=executable_path)\n"
     ]
    }
   ],
   "source": [
    "db = pd.read_csv(\"db.csv\",header=0,index_col=0)\n",
    "\n",
    "db.drop(columns=\"indeedApply\")\n",
    "db.drop(columns=\"stations\")\n",
    "db.drop(columns=\"refNum\")\n",
    "db.drop(columns=\"onmousedown\")\n",
    "db.drop(columns=\"advertiserId\")\n",
    "\n",
    "description = []\n",
    "\n",
    "for i in range(len(db)):\n",
    "    description.append(get_description(db.url[i]))\n",
    "db['description'] = description\n",
    "\n",
    "db.to_csv('db_with_description.csv')"
   ]
  },
  {
   "cell_type": "code",
   "execution_count": 30,
   "metadata": {},
   "outputs": [],
   "source": [
    "keywords = ['c', 'c++', 'c#', 'java', 'javascript', 'python', 'go', 'sql', 'nosql', 'redis', 'html', 'css', 'react', 'angular', 'vue', 'ruby', 'node.js', 'aws', 'django', '.net', 'redux', 'next.js', 'xml']"
   ]
  },
  {
   "cell_type": "code",
   "execution_count": 28,
   "metadata": {},
   "outputs": [],
   "source": [
    "def tokenize(text):\n",
    "\n",
    "    li = text.split()\n",
    "\n",
    "    puncs = \"!$%&'()*, -/:;<=>?@[\\]^_`{|}~]\"\n",
    "    li2 = []\n",
    "\n",
    "    for i in range(len(li)):\n",
    "        li2.extend(li[i].split('/'))\n",
    "\n",
    "    vocab = []\n",
    "    for i in range(len(li2)):\n",
    "        vocab.extend(li2[i].split('-'))\n",
    "    \n",
    "    for i in range(len(vocab)):\n",
    "        vocab[i].strip()\n",
    "        vocab[i] = ''.join(ch for ch in vocab[i] if ch not in puncs and ch != '\"')\n",
    "        vocab[i] = vocab[i].lower()\n",
    "    \n",
    "    return vocab"
   ]
  },
  {
   "cell_type": "code",
   "execution_count": 39,
   "metadata": {},
   "outputs": [],
   "source": [
    "db = pd.read_csv(\"db_with_description.csv\",header=0,index_col=0)\n",
    "skills = []\n",
    "for i in range(len(db)):\n",
    "    vocab = tokenize(db.description[i])\n",
    "    requires = []\n",
    "    for word in vocab:\n",
    "        if word in keywords:\n",
    "            requires.append(word)\n",
    "    requires = list(set(requires))\n",
    "    skills.append(requires)\n",
    "db['skills'] = skills\n",
    "db.to_csv('db_with_skills.csv')\n"
   ]
  },
  {
   "cell_type": "code",
   "execution_count": 53,
   "metadata": {},
   "outputs": [],
   "source": [
    "db = pd.read_csv(\"db_with_skills.csv\",header=0,index_col=0)\n",
    "titles = db['jobtitle']\n",
    "processed_titles = []\n",
    "for i in range(len(titles)):\n",
    "    title = tokenize(titles[i])\n",
    "    if 'back' in title or 'backend' in title:\n",
    "        processed_titles.append('back end')\n",
    "    elif 'front' in title or 'frontend' in title:\n",
    "        processed_titles.append('front end')\n",
    "    elif 'software' in title:\n",
    "        processed_titles.append('software developer')\n",
    "    else:\n",
    "        if 'developer' in title:\n",
    "            index = title.index('developer')\n",
    "            processed_titles.append(' '.join(title[0:index + 1]))\n",
    "        elif 'engineer' in title:\n",
    "            index = title.index('engineer')\n",
    "            processed_titles.append(' '.join(title[0:index + 1]))\n",
    "        else:\n",
    "            processed_titles.append(titles[i])\n",
    "db['jobtitle'] = processed_titles\n",
    "db.to_csv('final_db.csv')"
   ]
  },
  {
   "cell_type": "code",
   "execution_count": 52,
   "metadata": {},
   "outputs": [
    {
     "name": "stdout",
     "output_type": "stream",
     "text": [
      "[('java', 377.0), ('javascript', 335.0), ('python', 291.0), ('sql', 283.0), ('aws', 241.0), ('react', 198.0), ('css', 193.0), ('html', 161.0), ('c++', 136.0), ('angular', 119.0), ('c#', 119.0), ('.net', 92.0), ('c', 92.0), ('go', 89.0), ('nosql', 79.0), ('xml', 56.0), ('node.js', 54.0), ('ruby', 40.0), ('redux', 31.0), ('vue', 30.0), ('django', 26.0), ('redis', 26.0), ('next.js', 6.0)]\n"
     ]
    }
   ],
   "source": [
    "import numpy as np\n",
    "import ast\n",
    "\n",
    "db = pd.read_csv(\"final_db.csv\",header=0,index_col=0)\n",
    "\n",
    "dtm = np.zeros((len(db), len(keywords)))\n",
    "for i in range(len(db)):\n",
    "    skills = ast.literal_eval(db.skills[i])\n",
    "    for skill in skills:\n",
    "        j = keywords.index(skill)\n",
    "        dtm[i][j] = 1\n",
    "total = dtm.sum(axis=0)\n",
    "index = np.argsort(total)\n",
    "word = []\n",
    "for i in index:\n",
    "    word.append(keywords[i])\n",
    "value = total[index]\n",
    "dic = dict(zip(word, value))\n",
    "output = sorted(dic.items(), key = lambda item: item[1], reverse=True)\n",
    "print(output)"
   ]
  },
  {
   "cell_type": "code",
   "execution_count": 11,
   "metadata": {},
   "outputs": [],
   "source": [
    "import PyPDF2\n",
    "\n",
    "def read_pdf(file_name = 'resume.pdf'):\n",
    "    with open(file_name, 'rb') as file:\n",
    "        pdf_reader = PyPDF2.PdfFileReader(file)\n",
    "\n",
    "        text = \"\"\n",
    "        for page in range(pdf_reader.numPages):\n",
    "            page_obj = pdf_reader.getPage(page)\n",
    "            text += page_obj.extractText()\n",
    "    return text\n"
   ]
  },
  {
   "cell_type": "code",
   "execution_count": 13,
   "metadata": {},
   "outputs": [],
   "source": [
    "\n",
    "import spacy\n",
    "import re\n",
    "nlp = spacy.load(\"en_core_web_sm\")\n",
    "\n",
    "def preprocess(doc, lemmatized = True, pos_tag = False, remove_stopword = True, lower_case = True, remove_punctuation = True):\n",
    "    for i in range(len(doc)):\n",
    "        doc[i] = nlp(doc[i].replace('\\n\\n', '. '))\n",
    "    sents = doc\n",
    "    tokenized_sents = list(map(lambda sent: preprocess_token(sent, lemmatized, pos_tag, remove_stopword, lower_case, remove_punctuation), doc))\n",
    "            \n",
    "    return sents, tokenized_sents\n",
    "\n",
    "def preprocess_token(sent, lemmatized, pos_tag, remove_stopword, lower_case, remove_punctuation):\n",
    "    tokenized_sent = []\n",
    "    for token in sent:\n",
    "        text = token.text\n",
    "        if lemmatized:\n",
    "            text = token.lemma_\n",
    "\n",
    "        if remove_stopword:\n",
    "            if token.is_stop:\n",
    "                continue\n",
    "\n",
    "        if remove_punctuation:\n",
    "            if token.is_punct:\n",
    "                continue\n",
    "\n",
    "        if bool(re.search(\"^\\s*$\", token.text)):\n",
    "            continue\n",
    "\n",
    "        if lower_case:\n",
    "            text = text.lower()\n",
    "\n",
    "        if pos_tag:\n",
    "            text = (text, token.pos_)\n",
    "\n",
    "        tokenized_sent.append(text)\n",
    "\n",
    "    return tokenized_sent"
   ]
  },
  {
   "cell_type": "code",
   "execution_count": 12,
   "metadata": {},
   "outputs": [
    {
     "name": "stdout",
     "output_type": "stream",
     "text": [
      "SHIHAO XIONG shihao.xiong@icloud.com   |  (551) 556 - 4100   |   Jersey City, NJ 07302  GitHub: https://github.com/sxiong5 | Linkedin: https://www.linkedin.com/in/sxiong5 SUMMARY      Seeking a Software Engineer. \n",
      " ['shihao', 'xiong', 'shihao.xiong@icloud.com', '|', '551', '556', '4100', '|', 'jersey', 'city', 'nj', '07302', 'github', 'https://github.com/sxiong5', '|', 'linkedin', 'https://www.linkedin.com/in/sxiong5', 'summary', 'seek', 'software', 'engineer'] \n",
      "\n",
      "\n",
      "Master degree candidate. \n",
      " ['master', 'degree', 'candidate'] \n",
      "\n",
      "\n",
      "A wide range of project experience in web programming. \n",
      " ['wide', 'range', 'project', 'experience', 'web', 'programming'] \n",
      "\n",
      "\n"
     ]
    }
   ],
   "source": [
    "sents, tokenized_sents = preprocess(read_pdf())\n",
    "\n",
    "for i in range(3):\n",
    "    print(sents[i], \"\\n\",tokenized_sents[i],\"\\n\\n\" )"
   ]
  },
  {
   "cell_type": "code",
   "execution_count": 18,
   "metadata": {},
   "outputs": [],
   "source": [
    "def compute_tf_idf(sents, use_idf = True, min_df = 1):\n",
    "   \n",
    "    #add your codes\n",
    "    docs_tokens = {idx:{token:tokens.count(token) for token in set(tokens)} for idx, tokens in enumerate(sents)}\n",
    "\n",
    "    dtm=pd.DataFrame.from_dict(docs_tokens, orient=\"index\")\n",
    "    dtm=dtm.fillna(0)\n",
    "    dtm = dtm.sort_index(axis = 0)\n",
    "\n",
    "    tf=dtm.values\n",
    "    doc_len=tf.sum(axis=1, keepdims=True)\n",
    "    tf=np.divide(tf, doc_len)\n",
    "    \n",
    "    df=np.where(tf>0,1,0)\n",
    "\n",
    "    smoothed_idf=np.log(np.divide(len(sents)+1, np.sum(df, axis=0)+1))+1    \n",
    "    tf_idf=normalize(tf*smoothed_idf)\n",
    "    \n",
    "    \n",
    "    if use_idf:\n",
    "        return tf_idf\n",
    "    else:\n",
    "        return tf"
   ]
  },
  {
   "cell_type": "code",
   "execution_count": 121,
   "metadata": {},
   "outputs": [
    {
     "name": "stdout",
     "output_type": "stream",
     "text": [
      "['software developer', 'software developer', 'front end', 'software developer', 'software developer', 'react js developer', 'full stack .net developer', 'ios developer', 'python senior developer', 'software developer', 'software developer', 'java developer', 'java developer', 'software developer', 'software developer', 'software developer', 'software developer', 'front end', 'front end', 'vice president engineering core developer', 'software developer', 'senior java developer', 'web developer', 'web developer', 'javascript engineer', 'software developer', 'Sr. Engineering Manager', 'developer', 'sr. java developer', 'web developer', 'application developer', 'java cloud developer', 'software developer', 'senior developer', 'Programmer/Analyst', 'software developer', 'software developer', 'full stack engineer', 'python developer', 'software developer', 'full stack developer', 'software developer', 'software developer', 'software developer', 'software developer', 'front end', 'contractor senior java developer', 'mobile application developer', 'full stack developer', 'software developer', 'front end', 'senior java developer', 'software developer', 'software developer', 'software developer', 'software developer', 'senior java developer', 'software developer', 'front end', 'software developer', 'software developer', 'full stack developer', 'software developer', 'software developer', 'software developer', 'front end', 'web developer', 'software developer', 'software developer', 'javascript developer', 'software developer', 'front end', 'software developer', 'software developer', 'software developer', 'web solutions engineer', 'mobile developer', 'software developer', 'full stack developer', 'software developer', 'lead web application developer', 'front end', 'software developer', 'software developer', 'software developer', 'software developer', 'software developer', 'software developer', 'reactjs developer', 'front end', 'front end', 'Senior SDE, Search Customer Experience', 'front end', 'front end', 'software developer', 'react full stack developer', 'java full stack developer', 'web developer', 'software developer', 'software developer']\n"
     ]
    },
    {
     "data": {
      "image/png": "[encoded data removed]",
      "text/plain": [
       "<Figure size 1224x360 with 1 Axes>"
      ]
     },
     "metadata": {
      "needs_background": "light"
     },
     "output_type": "display_data"
    }
   ],
   "source": [
    "def get_recommendation_by_similarity():\n",
    "    data = pd.read_csv(\"final_db.csv\")\n",
    "    description = list(data[\"description\"])\n",
    "    description.append(read_pdf())\n",
    "    doc = description\n",
    "    sents, tokenized_sents = preprocess(doc)\n",
    "    tf_idf = compute_tf_idf(tokenized_sents, use_idf = True)\n",
    "    similarity=1-pairwise_distances(tf_idf, metric = 'cosine')\n",
    "    similarity_to_resume = similarity[len(similarity) - 1,:][:len(similarity) - 1]\n",
    "    index = np.argsort(np.array(similarity_to_resume))[-100:]\n",
    "    job_titles = list(map(lambda idx:data[\"jobtitle\"][idx], index))\n",
    "\n",
    "    return job_titles\n",
    "\n",
    "    \n",
    "\n",
    "recommend = get_recommendation_by_similarity()\n",
    "\n",
    "print(recommend)\n",
    "\n",
    "res = dict()\n",
    "\n",
    "for title in recommend:\n",
    "    res[title] = res.get(title, 0) + 1\n",
    "\n",
    "\n",
    "res = {k: v for k, v in sorted(res.items(), key=lambda item: item[1], reverse=True)}\n",
    "\n",
    "title = list(res.keys())[:5]\n",
    "count = list(res.values())[:5]\n",
    "\n",
    "indices = np.arange(5) \n",
    "plt.figure(figsize=(17,5)) \n",
    "plt.bar(indices, count, color='b') \n",
    "plt.title('Recommendation By NLP') \n",
    "plt.xlabel('Title') \n",
    "plt.ylabel('Count') \n",
    "plt.xticks(indices, title, rotation='horizontal') \n",
    "plt.tight_layout() \n",
    "plt.show()"
   ]
  },
  {
   "cell_type": "code",
   "execution_count": 120,
   "metadata": {},
   "outputs": [
    {
     "name": "stdout",
     "output_type": "stream",
     "text": [
      "['software developer', 'opensource javascript react developer', 'software developer', 'software developer', 'full stack engineer', 'full stack developer', 'full stack developer', 'front end', 'senior react developer', 'front end', 'software developer', 'front end', 'full stack java developer', 'Programmer/Analyst', 'software developer', 'mobile developer', 'full stack engineer', 'software developer', 'software developer', 'software developer', 'front end', 'front end', 'software developer', 'senior web developer', 'web developer', 'lead web developer', 'software developer', 'lead web developer', 'software developer', 'software developer', 'back end', 'full stack engineer', 'front end', 'senior full stack java developer', 'software developer', 'full stack engineer', 'software developer', 'software developer', 'front end', 'software developer', 'software developer', 'software developer', 'software developer', 'software developer', 'software developer', 'software developer', 'software developer', 'software developer', 'software developer', 'software developer', 'software developer', 'software developer', 'software developer', 'microsoft azure application developer', 'aem full stack developer', 'software developer', 'software developer', 'software developer', 'Safety Net Project Coordinator (DUALS) - 15256', 'software developer', 'react native developer', 'front end', 'full stack engineer', 'software developer', 'senior salesforce developer', 'front end', 'software developer', 'software developer', 'front end', 'angular java full stack engineer', 'senior react javascript developer', 'software developer', 'software developer', 'senior full stack developer', 'Lippincott - Senior Creative Technologist', 'angular ui developer', 'software developer', 'android engineer', 'back end', 'front end', 'software developer', 'front end', 'software developer', 'front end', 'software developer', 'software developer', 'software developer', 'microsoft azure application developer', 'software developer', 'software developer', 'senior mobile engineer', 'software developer']\n"
     ]
    },
    {
     "data": {
      "image/png": "[encoded data removed]",
      "text/plain": [
       "<Figure size 1224x360 with 1 Axes>"
      ]
     },
     "metadata": {
      "needs_background": "light"
     },
     "output_type": "display_data"
    }
   ],
   "source": [
    "def recommend_by_cluster():\n",
    "    data = pd.read_csv(\"final_db.csv\")\n",
    "    skills = []\n",
    "    for i in range(len(data)):\n",
    "        skills_p = ast.literal_eval(data.skills[i])\n",
    "        skills_str = \"\"\n",
    "        for skill in skills_p:\n",
    "            skills_str = skills_str + skill + \", \"\n",
    "        if skills_str == \"\":\n",
    "            skills.append(\"none\")\n",
    "        else:\n",
    "            skills.append(skills_str[0:len(skills_str) - 2])\n",
    "\n",
    "    vocab = tokenize(read_pdf())\n",
    "    requires = []\n",
    "    for word in vocab:\n",
    "        if word in keywords:\n",
    "            requires.append(word)\n",
    "    requires = list(set(requires))\n",
    "    resume_skill = \"\"\n",
    "    for skill in requires:\n",
    "            resume_skill = resume_skill + skill + \", \"\n",
    "    skills.append(resume_skill[0:len(resume_skill) - 2])\n",
    "\n",
    "    tfidf_vect = TfidfVectorizer(stop_words=\"english\", min_df=1)\n",
    "    dtm = tfidf_vect.fit_transform(skills)\n",
    "\n",
    "    num_clusters=10\n",
    "\n",
    "    # clusterer = KMeansClusterer(num_clusters, cosine_distance, repeats = 40)\n",
    "    # clusters = clusterer.cluster(dtm.toarray(), assign_clusters = True)\n",
    "    km = KMeans(n_clusters=num_clusters, n_init=20, random_state = 42)\\\n",
    "    .fit(dtm[:-1])\n",
    "    clusters = km.labels_.tolist()\n",
    "    \n",
    "    resume_dtm = dtm[-1]\n",
    "    pred = km.predict(resume_dtm)\n",
    "\n",
    "\n",
    "    same_cluster = []\n",
    "    for i in range(len(clusters)):\n",
    "        if clusters[i] == pred:\n",
    "            same_cluster.append(i)\n",
    "\n",
    "    job_titles = list(map(lambda idx:data[\"jobtitle\"][idx], same_cluster))\n",
    "\n",
    "    return job_titles\n",
    "\n",
    "recommend = list(recommend_by_cluster())\n",
    "\n",
    "print(recommend)\n",
    "\n",
    "res = dict()\n",
    "\n",
    "for title in recommend:\n",
    "    res[title] = res.get(title, 0) + 1\n",
    "\n",
    "\n",
    "res = {k: v for k, v in sorted(res.items(), key=lambda item: item[1], reverse=True)}\n",
    "\n",
    "title = list(res.keys())[:5]\n",
    "count = list(res.values())[:5]\n",
    "\n",
    "indices = np.arange(5) \n",
    "plt.figure(figsize=(17,5)) \n",
    "plt.bar(indices, count, color='b') \n",
    "plt.title('Recommendation By KMeans') \n",
    "plt.xlabel('Title') \n",
    "plt.ylabel('Count') \n",
    "plt.xticks(indices, title, rotation='horizontal') \n",
    "plt.tight_layout() \n",
    "plt.show()\n",
    "\n",
    "\n",
    "\n",
    "    "
   ]
  }
 ],
 "metadata": {
  "interpreter": {
   "hash": "b36852e87d1cbbd6c26ab8e7b3c8b6efc5490282603c123d4442cd4db72eb730"
  },
  "kernelspec": {
   "display_name": "Python 3.9.12 ('base')",
   "language": "python",
   "name": "python3"
  },
  "language_info": {
   "codemirror_mode": {
    "name": "ipython",
    "version": 3
   },
   "file_extension": ".py",
   "mimetype": "text/x-python",
   "name": "python",
   "nbconvert_exporter": "python",
   "pygments_lexer": "ipython3",
   "version": "3.9.12"
  },
  "orig_nbformat": 4,
  "vscode": {
   "interpreter": {
    "hash": "046fafec1ff600f90b822c3ce660687157f5f07f7eaa634e34ca861dd36e448c"
   }
  }
 },
 "nbformat": 4,
 "nbformat_minor": 2
}
