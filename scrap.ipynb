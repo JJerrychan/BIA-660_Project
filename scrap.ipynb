{
 "cells": [
  {
   "cell_type": "code",
   "execution_count": 83,
   "metadata": {},
   "outputs": [],
   "source": [
    "import numpy as np\n",
    "import pandas as pd\n",
    "import requests\n",
    "from sklearn.preprocessing import normalize\n",
    "from sklearn.metrics import pairwise_distances\n",
    "from selenium import webdriver\n",
    "from selenium.webdriver.common.by import By\n",
    "import ast\n",
    "import spacy\n",
    "import re\n",
    "from sklearn.feature_extraction.text import TfidfVectorizer\n",
    "from sklearn import metrics\n",
    "from nltk.corpus import stopwords\n",
    "from nltk.cluster import KMeansClusterer, cosine_distance\n",
    "from sklearn.cluster import KMeans"
   ]
  },
  {
   "cell_type": "code",
   "execution_count": 11,
   "metadata": {},
   "outputs": [],
   "source": [
    "import requests\n",
    "import pandas as pd\n",
    "\n",
    "def get_data():\n",
    "    api_endpoint ='https://api.indeed.com/ads/apisearch'\n",
    "\n",
    "    params = {\n",
    "        'publisher': '448947293830904',\n",
    "        'q': 'SDE',\n",
    "        'l': 'ny',\n",
    "        'jt': 'fulltime',\n",
    "        'limit': 25,\n",
    "        'start': 0 ,\n",
    "        'radius': 100,\n",
    "        'co': 'us',\n",
    "        'userip': '1.2.3.4',\n",
    "        'format': 'json',\n",
    "        'useragent': 'Chrome',\n",
    "        'v': 2\n",
    "    }\n",
    "\n",
    "    rows = []\n",
    "    for i in range(40):\n",
    "        response = requests.get(api_endpoint, params=params)\n",
    "        rows.extend(response.json()['results'])\n",
    "\n",
    "        params['start'] += 25\n",
    "\n",
    "    tb = pd.DataFrame(rows)\n",
    "    tb.to_csv('db.csv')\n",
    "\n",
    "    "
   ]
  },
  {
   "cell_type": "code",
   "execution_count": 12,
   "metadata": {},
   "outputs": [],
   "source": [
    "get_data()"
   ]
  },
  {
   "cell_type": "code",
   "execution_count": 6,
   "metadata": {},
   "outputs": [],
   "source": [
    "from selenium import webdriver\n",
    "from selenium.webdriver.common.by import By\n",
    "\n",
    "def get_description(page_url):\n",
    "    \n",
    "    \n",
    "    # enter your codes here\n",
    "    executable_path = '/opt/homebrew/bin/chromedriver'\n",
    "\n",
    "    driver = webdriver.Chrome(executable_path=executable_path)\n",
    "\n",
    "    driver.get(page_url)\n",
    "\n",
    "    description = driver.find_element(By.CSS_SELECTOR, \"div.jobsearch-jobDescriptionText\")\n",
    "    \n",
    "    return description.text"
   ]
  },
  {
   "cell_type": "code",
   "execution_count": 8,
   "metadata": {},
   "outputs": [
    {
     "name": "stderr",
     "output_type": "stream",
     "text": [
      "/var/folders/dc/wvln0gc568s99mg6ck45xlfc0000gn/T/ipykernel_17315/423266675.py:10: DeprecationWarning: executable_path has been deprecated, please pass in a Service object\n",
      "  driver = webdriver.Chrome(executable_path=executable_path)\n"
     ]
    }
   ],
   "source": [
    "db = pd.read_csv(\"db.csv\",header=0,index_col=0)\n",
    "\n",
    "db.drop(columns=\"indeedApply\")\n",
    "db.drop(columns=\"stations\")\n",
    "db.drop(columns=\"refNum\")\n",
    "db.drop(columns=\"onmousedown\")\n",
    "db.drop(columns=\"advertiserId\")\n",
    "\n",
    "description = []\n",
    "\n",
    "for i in range(len(db)):\n",
    "    description.append(get_description(db.url[i]))\n",
    "db['description'] = description\n",
    "\n",
    "db.to_csv('db_with_description.csv')"
   ]
  },
  {
   "cell_type": "code",
   "execution_count": 30,
   "metadata": {},
   "outputs": [],
   "source": [
    "keywords = ['c', 'c++', 'c#', 'java', 'javascript', 'python', 'go', 'sql', 'nosql', 'redis', 'html', 'css', 'react', 'angular', 'vue', 'ruby', 'node.js', 'aws', 'django', '.net', 'redux', 'next.js', 'xml']"
   ]
  },
  {
   "cell_type": "code",
   "execution_count": 28,
   "metadata": {},
   "outputs": [],
   "source": [
    "def tokenize(text):\n",
    "\n",
    "    li = text.split()\n",
    "\n",
    "    puncs = \"!$%&'()*, -/:;<=>?@[\\]^_`{|}~]\"\n",
    "    li2 = []\n",
    "\n",
    "    for i in range(len(li)):\n",
    "        li2.extend(li[i].split('/'))\n",
    "\n",
    "    vocab = []\n",
    "    for i in range(len(li2)):\n",
    "        vocab.extend(li2[i].split('-'))\n",
    "    \n",
    "    for i in range(len(vocab)):\n",
    "        vocab[i].strip()\n",
    "        vocab[i] = ''.join(ch for ch in vocab[i] if ch not in puncs and ch != '\"')\n",
    "        vocab[i] = vocab[i].lower()\n",
    "    \n",
    "    return vocab"
   ]
  },
  {
   "cell_type": "code",
   "execution_count": 39,
   "metadata": {},
   "outputs": [],
   "source": [
    "db = pd.read_csv(\"db_with_description.csv\",header=0,index_col=0)\n",
    "skills = []\n",
    "for i in range(len(db)):\n",
    "    vocab = tokenize(db.description[i])\n",
    "    requires = []\n",
    "    for word in vocab:\n",
    "        if word in keywords:\n",
    "            requires.append(word)\n",
    "    requires = list(set(requires))\n",
    "    skills.append(requires)\n",
    "db['skills'] = skills\n",
    "db.to_csv('db_with_skills.csv')\n"
   ]
  },
  {
   "cell_type": "code",
   "execution_count": 53,
   "metadata": {},
   "outputs": [],
   "source": [
    "db = pd.read_csv(\"db_with_skills.csv\",header=0,index_col=0)\n",
    "titles = db['jobtitle']\n",
    "processed_titles = []\n",
    "for i in range(len(titles)):\n",
    "    title = tokenize(titles[i])\n",
    "    if 'back' in title or 'backend' in title:\n",
    "        processed_titles.append('back end')\n",
    "    elif 'front' in title or 'frontend' in title:\n",
    "        processed_titles.append('front end')\n",
    "    elif 'software' in title:\n",
    "        processed_titles.append('software developer')\n",
    "    else:\n",
    "        if 'developer' in title:\n",
    "            index = title.index('developer')\n",
    "            processed_titles.append(' '.join(title[0:index + 1]))\n",
    "        elif 'engineer' in title:\n",
    "            index = title.index('engineer')\n",
    "            processed_titles.append(' '.join(title[0:index + 1]))\n",
    "        else:\n",
    "            processed_titles.append(titles[i])\n",
    "db['jobtitle'] = processed_titles\n",
    "db.to_csv('final_db.csv')"
   ]
  },
  {
   "cell_type": "code",
   "execution_count": 52,
   "metadata": {},
   "outputs": [
    {
     "name": "stdout",
     "output_type": "stream",
     "text": [
      "[('java', 377.0), ('javascript', 335.0), ('python', 291.0), ('sql', 283.0), ('aws', 241.0), ('react', 198.0), ('css', 193.0), ('html', 161.0), ('c++', 136.0), ('angular', 119.0), ('c#', 119.0), ('.net', 92.0), ('c', 92.0), ('go', 89.0), ('nosql', 79.0), ('xml', 56.0), ('node.js', 54.0), ('ruby', 40.0), ('redux', 31.0), ('vue', 30.0), ('django', 26.0), ('redis', 26.0), ('next.js', 6.0)]\n"
     ]
    }
   ],
   "source": [
    "import numpy as np\n",
    "import ast\n",
    "\n",
    "db = pd.read_csv(\"final_db.csv\",header=0,index_col=0)\n",
    "\n",
    "dtm = np.zeros((len(db), len(keywords)))\n",
    "for i in range(len(db)):\n",
    "    skills = ast.literal_eval(db.skills[i])\n",
    "    for skill in skills:\n",
    "        j = keywords.index(skill)\n",
    "        dtm[i][j] = 1\n",
    "total = dtm.sum(axis=0)\n",
    "index = np.argsort(total)\n",
    "word = []\n",
    "for i in index:\n",
    "    word.append(keywords[i])\n",
    "value = total[index]\n",
    "dic = dict(zip(word, value))\n",
    "output = sorted(dic.items(), key = lambda item: item[1], reverse=True)\n",
    "print(output)"
   ]
  },
  {
   "cell_type": "code",
   "execution_count": 11,
   "metadata": {},
   "outputs": [],
   "source": [
    "import PyPDF2\n",
    "\n",
    "def read_pdf(file_name = 'resume.pdf'):\n",
    "    with open(file_name, 'rb') as file:\n",
    "        pdf_reader = PyPDF2.PdfFileReader(file)\n",
    "\n",
    "        text = \"\"\n",
    "        for page in range(pdf_reader.numPages):\n",
    "            page_obj = pdf_reader.getPage(page)\n",
    "            text += page_obj.extractText()\n",
    "    return text\n"
   ]
  },
  {
   "cell_type": "code",
   "execution_count": 13,
   "metadata": {},
   "outputs": [],
   "source": [
    "\n",
    "import spacy\n",
    "import re\n",
    "nlp = spacy.load(\"en_core_web_sm\")\n",
    "\n",
    "def preprocess(doc, lemmatized = True, pos_tag = False, remove_stopword = True, lower_case = True, remove_punctuation = True):\n",
    "    for i in range(len(doc)):\n",
    "        doc[i] = nlp(doc[i].replace('\\n\\n', '. '))\n",
    "    sents = doc\n",
    "    tokenized_sents = list(map(lambda sent: preprocess_token(sent, lemmatized, pos_tag, remove_stopword, lower_case, remove_punctuation), doc))\n",
    "            \n",
    "    return sents, tokenized_sents\n",
    "\n",
    "def preprocess_token(sent, lemmatized, pos_tag, remove_stopword, lower_case, remove_punctuation):\n",
    "    tokenized_sent = []\n",
    "    for token in sent:\n",
    "        text = token.text\n",
    "        if lemmatized:\n",
    "            text = token.lemma_\n",
    "\n",
    "        if remove_stopword:\n",
    "            if token.is_stop:\n",
    "                continue\n",
    "\n",
    "        if remove_punctuation:\n",
    "            if token.is_punct:\n",
    "                continue\n",
    "\n",
    "        if bool(re.search(\"^\\s*$\", token.text)):\n",
    "            continue\n",
    "\n",
    "        if lower_case:\n",
    "            text = text.lower()\n",
    "\n",
    "        if pos_tag:\n",
    "            text = (text, token.pos_)\n",
    "\n",
    "        tokenized_sent.append(text)\n",
    "\n",
    "    return tokenized_sent"
   ]
  },
  {
   "cell_type": "code",
   "execution_count": 12,
   "metadata": {},
   "outputs": [
    {
     "name": "stdout",
     "output_type": "stream",
     "text": [
      "SHIHAO XIONG shihao.xiong@icloud.com   |  (551) 556 - 4100   |   Jersey City, NJ 07302  GitHub: https://github.com/sxiong5 | Linkedin: https://www.linkedin.com/in/sxiong5 SUMMARY      Seeking a Software Engineer. \n",
      " ['shihao', 'xiong', 'shihao.xiong@icloud.com', '|', '551', '556', '4100', '|', 'jersey', 'city', 'nj', '07302', 'github', 'https://github.com/sxiong5', '|', 'linkedin', 'https://www.linkedin.com/in/sxiong5', 'summary', 'seek', 'software', 'engineer'] \n",
      "\n",
      "\n",
      "Master degree candidate. \n",
      " ['master', 'degree', 'candidate'] \n",
      "\n",
      "\n",
      "A wide range of project experience in web programming. \n",
      " ['wide', 'range', 'project', 'experience', 'web', 'programming'] \n",
      "\n",
      "\n"
     ]
    }
   ],
   "source": [
    "sents, tokenized_sents = preprocess(read_pdf())\n",
    "\n",
    "for i in range(3):\n",
    "    print(sents[i], \"\\n\",tokenized_sents[i],\"\\n\\n\" )"
   ]
  },
  {
   "cell_type": "code",
   "execution_count": 18,
   "metadata": {},
   "outputs": [],
   "source": [
    "def compute_tf_idf(sents, use_idf = True, min_df = 1):\n",
    "   \n",
    "    #add your codes\n",
    "    docs_tokens = {idx:{token:tokens.count(token) for token in set(tokens)} for idx, tokens in enumerate(sents)}\n",
    "\n",
    "    dtm=pd.DataFrame.from_dict(docs_tokens, orient=\"index\")\n",
    "    dtm=dtm.fillna(0)\n",
    "    dtm = dtm.sort_index(axis = 0)\n",
    "\n",
    "    tf=dtm.values\n",
    "    doc_len=tf.sum(axis=1, keepdims=True)\n",
    "    tf=np.divide(tf, doc_len)\n",
    "    \n",
    "    df=np.where(tf>0,1,0)\n",
    "\n",
    "    smoothed_idf=np.log(np.divide(len(sents)+1, np.sum(df, axis=0)+1))+1    \n",
    "    tf_idf=normalize(tf*smoothed_idf)\n",
    "    \n",
    "    \n",
    "    if use_idf:\n",
    "        return tf_idf\n",
    "    else:\n",
    "        return tf"
   ]
  },
  {
   "cell_type": "code",
   "execution_count": 24,
   "metadata": {},
   "outputs": [
    {
     "name": "stdout",
     "output_type": "stream",
     "text": [
      "['https://www.indeed.com/viewjob?jk=ee674a6d30dbe697&qd=dq_0GghYhi9jngULGgishWK6LDkgbXhup4-ULwcj25E0Bk4z7ucQQ0mEG6Iu62NZpMzUp3lzzKWYb3ps8rmhB0yen-pxsGDm9QhN-SdyRuA&indpubnum=448947293830904&atk=1gh76d1hqi3rs800', 'https://www.indeed.com/viewjob?jk=6c4b9fba82391bc5&qd=dq_0GghYhi9jngULGgishWK6LDkgbXhup4-ULwcj25E0Bk4z7ucQQ0mEG6Iu62NZpMzUp3lzzKWYb3ps8rmhB_7dyZHSE8HYqWT83q7-ON4&indpubnum=448947293830904&atk=1gh76co4tirro800', 'https://www.indeed.com/viewjob?jk=fa03aab332d55b5d&qd=dq_0GghYhi9jngULGgishWK6LDkgbXhup4-ULwcj25E0Bk4z7ucQQ0mEG6Iu62NZpMzUp3lzzKWYb3ps8rmhBwCsOETZBPHlcKipjcYZ-dU&indpubnum=448947293830904&atk=1gh76cuqlk7eq800', 'https://www.indeed.com/viewjob?jk=270d2bdde92c25a2&qd=dq_0GghYhi9jngULGgishWK6LDkgbXhup4-ULwcj25E0Bk4z7ucQQ0mEG6Iu62NZpMzUp3lzzKWYb3ps8rmhB_RVOwFFh5ikHzr0yLNpwBw&indpubnum=448947293830904&atk=1gh76cr7mi3ou800', 'https://www.indeed.com/viewjob?jk=13cebcc956ff8dfa&qd=dq_0GghYhi9jngULGgishWK6LDkgbXhup4-ULwcj25E0Bk4z7ucQQ0mEG6Iu62NZpMzUp3lzzKWYb3ps8rmhBwCsOETZBPHlcKipjcYZ-dU&indpubnum=448947293830904&atk=1gh76cv0si3rs800', 'https://www.indeed.com/viewjob?jk=4743f60a8257f32b&qd=dq_0GghYhi9jngULGgishWK6LDkgbXhup4-ULwcj25E0Bk4z7ucQQ0mEG6Iu62NZpMzUp3lzzKWYb3ps8rmhB_RVOwFFh5ikHzr0yLNpwBw&indpubnum=448947293830904&atk=1gh76cqtug0nl800', 'https://www.indeed.com/viewjob?jk=e94981b2e8186684&qd=dq_0GghYhi9jngULGgishWK6LDkgbXhup4-ULwcj25E0Bk4z7ucQQ0mEG6Iu62NZpMzUp3lzzKWYb3ps8rmhByGlEyzVp5CSov_aKUA-FHs&indpubnum=448947293830904&atk=1gh76d2f2i3rs800', 'https://www.indeed.com/viewjob?jk=2863b1e6f0ab7359&qd=dq_0GghYhi9jngULGgishWK6LDkgbXhup4-ULwcj25E0Bk4z7ucQQ0mEG6Iu62NZpMzUp3lzzKWYb3ps8rmhB_RVOwFFh5ikHzr0yLNpwBw&indpubnum=448947293830904&atk=1gh76cr7mi3ou800', 'https://www.indeed.com/viewjob?jk=a6757127a3a17132&qd=dq_0GghYhi9jngULGgishWK6LDkgbXhup4-ULwcj25E0Bk4z7ucQQ0mEG6Iu62NZpMzUp3lzzKWYb3ps8rmhB5Cm5gyD4fkMTDz1JtltejA&indpubnum=448947293830904&atk=1gh76cu0si3rs800', 'https://www.indeed.com/viewjob?jk=4e11201cd3db9512&qd=dq_0GghYhi9jngULGgishWK6LDkgbXhup4-ULwcj25E0Bk4z7ucQQ0mEG6Iu62NZpMzUp3lzzKWYb3ps8rmhB159vVpbJXybeUk050toB3Q&indpubnum=448947293830904&atk=1gh76cpu8i3rs800', 'https://www.indeed.com/viewjob?jk=072d1bb8033ddce0&qd=dq_0GghYhi9jngULGgishWK6LDkgbXhup4-ULwcj25E0Bk4z7ucQQ0mEG6Iu62NZpMzUp3lzzKWYb3ps8rmhBxCmbn8mdEwc0cSJhSJGw4g&indpubnum=448947293830904&atk=1gh76d00ug0nl800', 'https://www.indeed.com/viewjob?jk=5bb21d020bfd6d52&qd=dq_0GghYhi9jngULGgishWK6LDkgbXhup4-ULwcj25E0Bk4z7ucQQ0mEG6Iu62NZpMzUp3lzzKWYb3ps8rmhB5Cm5gyD4fkMTDz1JtltejA&indpubnum=448947293830904&atk=1gh76ctqsj33i800', 'https://www.indeed.com/viewjob?jk=5d9f32e7e0f6ac46&qd=dq_0GghYhi9jngULGgishWK6LDkgbXhup4-ULwcj25E0Bk4z7ucQQ0mEG6Iu62NZpMzUp3lzzKWYb3ps8rmhB0jwqy70XsD6fkhVKp66AVI&indpubnum=448947293830904&atk=1gh76cpntir1j800', 'https://www.indeed.com/viewjob?jk=2bca045d2866fe0a&qd=dq_0GghYhi9jngULGgishWK6LDkgbXhup4-ULwcj25E0Bk4z7ucQQ0mEG6Iu62NZpMzUp3lzzKWYb3ps8rmhB6rQDPFVdpPRMw8wBLGI1xI&indpubnum=448947293830904&atk=1gh76cnpeir1j800', 'https://www.indeed.com/viewjob?jk=fe76051257f2a93e&qd=dq_0GghYhi9jngULGgishWK6LDkgbXhup4-ULwcj25E0Bk4z7ucQQ0mEG6Iu62NZpMzUp3lzzKWYb3ps8rmhBzMTg7BEw-C7--M7g71pN8E&indpubnum=448947293830904&atk=1gh76d333k7iv800', 'https://www.indeed.com/viewjob?jk=ac9be2f732801afa&qd=dq_0GghYhi9jngULGgishWK6LDkgbXhup4-ULwcj25E0Bk4z7ucQQ0mEG6Iu62NZpMzUp3lzzKWYb3ps8rmhByGlEyzVp5CSov_aKUA-FHs&indpubnum=448947293830904&atk=1gh76d2f2i3rs800', 'https://www.indeed.com/viewjob?jk=531883761bf268de&qd=dq_0GghYhi9jngULGgishWK6LDkgbXhup4-ULwcj25E0Bk4z7ucQQ0mEG6Iu62NZpMzUp3lzzKWYb3ps8rmhB6rQDPFVdpPRMw8wBLGI1xI&indpubnum=448947293830904&atk=1gh76cnjsir1j800', 'https://www.indeed.com/viewjob?jk=4c88dda56eecac2d&qd=dq_0GghYhi9jngULGgishWK6LDkgbXhup4-ULwcj25E0Bk4z7ucQQ0mEG6Iu62NZpMzUp3lzzKWYb3ps8rmhB159vVpbJXybeUk050toB3Q&indpubnum=448947293830904&atk=1gh76cq7vk7eq800', 'https://www.indeed.com/viewjob?jk=2810d038d543b05e&qd=dq_0GghYhi9jngULGgishWK6LDkgbXhup4-ULwcj25E0Bk4z7ucQQ0mEG6Iu62NZpMzUp3lzzKWYb3ps8rmhB_RVOwFFh5ikHzr0yLNpwBw&indpubnum=448947293830904&atk=1gh76cr7mi3ou800', 'https://www.indeed.com/viewjob?jk=76e503549672c487&qd=dq_0GghYhi9jngULGgishWK6LDkgbXhup4-ULwcj25E0Bk4z7ucQQ0mEG6Iu62NZpMzUp3lzzKWYb3ps8rmhB6rQDPFVdpPRMw8wBLGI1xI&indpubnum=448947293830904&atk=1gh76cnpeir1j800', 'https://www.indeed.com/viewjob?jk=28ccbbe632fbeb69&qd=dq_0GghYhi9jngULGgishWK6LDkgbXhup4-ULwcj25E0Bk4z7ucQQ0mEG6Iu62NZpMzUp3lzzKWYb3ps8rmhB6rQDPFVdpPRMw8wBLGI1xI&indpubnum=448947293830904&atk=1gh76cnpeir1j800', 'https://www.indeed.com/viewjob?jk=3c40e4f2c5eaee09&qd=dq_0GghYhi9jngULGgishWK6LDkgbXhup4-ULwcj25E0Bk4z7ucQQ0mEG6Iu62NZpMzUp3lzzKWYb3ps8rmhB5Cm5gyD4fkMTDz1JtltejA&indpubnum=448947293830904&atk=1gh76cugiir1j800', 'https://www.indeed.com/viewjob?jk=91095952b58c90fe&qd=dq_0GghYhi9jngULGgishWK6LDkgbXhup4-ULwcj25E0Bk4z7ucQQ0mEG6Iu62NZpMzUp3lzzKWYb3ps8rmhB6rQDPFVdpPRMw8wBLGI1xI&indpubnum=448947293830904&atk=1gh76cnjsir1j800', 'https://www.indeed.com/viewjob?jk=7f58f4aa1f042748&qd=dq_0GghYhi9jngULGgishWK6LDkgbXhup4-ULwcj25E0Bk4z7ucQQ0mEG6Iu62NZpMzUp3lzzKWYb3ps8rmhB6rQDPFVdpPRMw8wBLGI1xI&indpubnum=448947293830904&atk=1gh76cn9hk7iv800', 'https://www.indeed.com/viewjob?jk=4262e0ac3fe52374&qd=dq_0GghYhi9jngULGgishWK6LDkgbXhup4-ULwcj25E0Bk4z7ucQQ0mEG6Iu62NZpMzUp3lzzKWYb3ps8rmhB5Cm5gyD4fkMTDz1JtltejA&indpubnum=448947293830904&atk=1gh76cu9girro800', 'https://www.indeed.com/viewjob?jk=efb0b5132ce27d1a&qd=dq_0GghYhi9jngULGgishWK6LDkgbXhup4-ULwcj25E0Bk4z7ucQQ0mEG6Iu62NZpMzUp3lzzKWYb3ps8rmhByGlEyzVp5CSov_aKUA-FHs&indpubnum=448947293830904&atk=1gh76d23mi3ou800', 'https://www.indeed.com/viewjob?jk=354a8d375cd9bfed&qd=dq_0GghYhi9jngULGgishWK6LDkgbXhup4-ULwcj25E0Bk4z7ucQQ0mEG6Iu62NZpMzUp3lzzKWYb3ps8rmhB5Cm5gyD4fkMTDz1JtltejA&indpubnum=448947293830904&atk=1gh76cugiir1j800', 'https://www.indeed.com/viewjob?jk=ab4ad2d3f9f25af1&qd=dq_0GghYhi9jngULGgishWK6LDkgbXhup4-ULwcj25E0Bk4z7ucQQ0mEG6Iu62NZpMzUp3lzzKWYb3ps8rmhB_RVOwFFh5ikHzr0yLNpwBw&indpubnum=448947293830904&atk=1gh76cre3g0nl800', 'https://www.indeed.com/viewjob?jk=33e503a307569d69&qd=dq_0GghYhi9jngULGgishWK6LDkgbXhup4-ULwcj25E0Bk4z7ucQQ0mEG6Iu62NZpMzUp3lzzKWYb3ps8rmhB6rQDPFVdpPRMw8wBLGI1xI&indpubnum=448947293830904&atk=1gh76cn3oi3ou800', 'https://www.indeed.com/viewjob?jk=1eea3e76b72e5287&qd=dq_0GghYhi9jngULGgishWK6LDkgbXhup4-ULwcj25E0Bk4z7ucQQ0mEG6Iu62NZpMzUp3lzzKWYb3ps8rmhB6rQDPFVdpPRMw8wBLGI1xI&indpubnum=448947293830904&atk=1gh76cnjsir1j800', 'https://www.indeed.com/viewjob?jk=cd1b1230882abf33&qd=dq_0GghYhi9jngULGgishWK6LDkgbXhup4-ULwcj25E0Bk4z7ucQQ0mEG6Iu62NZpMzUp3lzzKWYb3ps8rmhB6rQDPFVdpPRMw8wBLGI1xI&indpubnum=448947293830904&atk=1gh76cnjsir1j800', 'https://www.indeed.com/viewjob?jk=29aa7bcf418bf395&qd=dq_0GghYhi9jngULGgishWK6LDkgbXhup4-ULwcj25E0Bk4z7ucQQ0mEG6Iu62NZpMzUp3lzzKWYb3ps8rmhBxCmbn8mdEwc0cSJhSJGw4g&indpubnum=448947293830904&atk=1gh76d0bair1j800', 'https://www.indeed.com/viewjob?jk=2af7001a85479c0a&qd=dq_0GghYhi9jngULGgishWK6LDkgbXhup4-ULwcj25E0Bk4z7ucQQ0mEG6Iu62NZpMzUp3lzzKWYb3ps8rmhB5Cm5gyD4fkMTDz1JtltejA&indpubnum=448947293830904&atk=1gh76ctqsj33i800', 'https://www.indeed.com/viewjob?jk=5a0cee3050509b96&qd=dq_0GghYhi9jngULGgishWK6LDkgbXhup4-ULwcj25E0Bk4z7ucQQ0mEG6Iu62NZpMzUp3lzzKWYb3ps8rmhB7VgXDJOSawbKdxcD_EUXjU&indpubnum=448947293830904&atk=1gh76cspoirro800', 'https://www.indeed.com/viewjob?jk=35ee63b3078c7ba5&qd=dq_0GghYhi9jngULGgishWK6LDkgbXhup4-ULwcj25E0Bk4z7ucQQ0mEG6Iu62NZpMzUp3lzzKWYb3ps8rmhB_7dyZHSE8HYqWT83q7-ON4&indpubnum=448947293830904&atk=1gh76cob5k7eq800', 'https://www.indeed.com/viewjob?jk=5af83b09571c80b0&qd=dq_0GghYhi9jngULGgishWK6LDkgbXhup4-ULwcj25E0Bk4z7ucQQ0mEG6Iu62NZpMzUp3lzzKWYb3ps8rmhByGlEyzVp5CSov_aKUA-FHs&indpubnum=448947293830904&atk=1gh76d23mi3ou800', 'https://www.indeed.com/viewjob?jk=ebcea59173f6c48f&qd=dq_0GghYhi9jngULGgishWK6LDkgbXhup4-ULwcj25E0Bk4z7ucQQ0mEG6Iu62NZpMzUp3lzzKWYb3ps8rmhB_7dyZHSE8HYqWT83q7-ON4&indpubnum=448947293830904&atk=1gh76cos3g0nl800', 'https://www.indeed.com/viewjob?jk=d787196cd94012de&qd=dq_0GghYhi9jngULGgishWK6LDkgbXhup4-ULwcj25E0Bk4z7ucQQ0mEG6Iu62NZpMzUp3lzzKWYb3ps8rmhB6rQDPFVdpPRMw8wBLGI1xI&indpubnum=448947293830904&atk=1gh76cn3oi3ou800', 'https://www.indeed.com/viewjob?jk=ac08241eb309c038&qd=dq_0GghYhi9jngULGgishWK6LDkgbXhup4-ULwcj25E0Bk4z7ucQQ0mEG6Iu62NZpMzUp3lzzKWYb3ps8rmhB_7dyZHSE8HYqWT83q7-ON4&indpubnum=448947293830904&atk=1gh76co4tirro800', 'https://www.indeed.com/viewjob?jk=03a433c47a2d9cdb&qd=dq_0GghYhi9jngULGgishWK6LDkgbXhup4-ULwcj25E0Bk4z7ucQQ0mEG6Iu62NZpMzUp3lzzKWYb3ps8rmhB6rQDPFVdpPRMw8wBLGI1xI&indpubnum=448947293830904&atk=1gh76cnjsir1j800', 'https://www.indeed.com/viewjob?jk=8fa2da5c0c32fb9a&qd=dq_0GghYhi9jngULGgishWK6LDkgbXhup4-ULwcj25E0Bk4z7ucQQ0mEG6Iu62NZpMzUp3lzzKWYb3ps8rmhBxCmbn8mdEwc0cSJhSJGw4g&indpubnum=448947293830904&atk=1gh76d0ifg0nl800', 'https://www.indeed.com/viewjob?jk=c23937c068f42fa7&qd=dq_0GghYhi9jngULGgishWK6LDkgbXhup4-ULwcj25E0Bk4z7ucQQ0mEG6Iu62NZpMzUp3lzzKWYb3ps8rmhByXdQ4tvtkKVQ4WgiCF_4Vo&indpubnum=448947293830904&atk=1gh76ct8c2i9a000', 'https://www.indeed.com/viewjob?jk=d2e858088e826a01&qd=dq_0GghYhi9jngULGgishWK6LDkgbXhup4-ULwcj25E0Bk4z7ucQQ0mEG6Iu62NZpMzUp3lzzKWYb3ps8rmhB_7dyZHSE8HYqWT83q7-ON4&indpubnum=448947293830904&atk=1gh76cob5k7eq800', 'https://www.indeed.com/viewjob?jk=40d9583a84c7ee5d&qd=dq_0GghYhi9jngULGgishWK6LDkgbXhup4-ULwcj25E0Bk4z7ucQQ0mEG6Iu62NZpMzUp3lzzKWYb3ps8rmhBxCmbn8mdEwc0cSJhSJGw4g&indpubnum=448947293830904&atk=1gh76cvpii3ou800', 'https://www.indeed.com/viewjob?jk=b590f13f91400ac9&qd=dq_0GghYhi9jngULGgishWK6LDkgbXhup4-ULwcj25E0Bk4z7ucQQ0mEG6Iu62NZpMzUp3lzzKWYb3ps8rmhB_7dyZHSE8HYqWT83q7-ON4&indpubnum=448947293830904&atk=1gh76co4tirro800', 'https://www.indeed.com/viewjob?jk=ebd404b3ea6eda75&qd=dq_0GghYhi9jngULGgishWK6LDkgbXhup4-ULwcj25E0Bk4z7ucQQ0mEG6Iu62NZpMzUp3lzzKWYb3ps8rmhBxCmbn8mdEwc0cSJhSJGw4g&indpubnum=448947293830904&atk=1gh76d0ifg0nl800', 'https://www.indeed.com/viewjob?jk=4dd6a81698a5964f&qd=dq_0GghYhi9jngULGgishWK6LDkgbXhup4-ULwcj25E0Bk4z7ucQQ0mEG6Iu62NZpMzUp3lzzKWYb3ps8rmhByGlEyzVp5CSov_aKUA-FHs&indpubnum=448947293830904&atk=1gh76d2f2i3rs800', 'https://www.indeed.com/viewjob?jk=c15b231bebfb3fd1&qd=dq_0GghYhi9jngULGgishWK6LDkgbXhup4-ULwcj25E0Bk4z7ucQQ0mEG6Iu62NZpMzUp3lzzKWYb3ps8rmhB1lIJNBFbWLhPP1pets2cU0&indpubnum=448947293830904&atk=1gh76cmmgj33i800', 'https://www.indeed.com/viewjob?jk=6223d70897129d45&qd=dq_0GghYhi9jngULGgishWK6LDkgbXhup4-ULwcj25E0Bk4z7ucQQ0mEG6Iu62NZpMzUp3lzzKWYb3ps8rmhBwCsOETZBPHlcKipjcYZ-dU&indpubnum=448947293830904&atk=1gh76cv0si3rs800', 'https://www.indeed.com/viewjob?jk=f540cd817814a615&qd=dq_0GghYhi9jngULGgishWK6LDkgbXhup4-ULwcj25E0Bk4z7ucQQ0mEG6Iu62NZpMzUp3lzzKWYb3ps8rmhBxCmbn8mdEwc0cSJhSJGw4g&indpubnum=448947293830904&atk=1gh76d00ug0nl800', 'https://www.indeed.com/viewjob?jk=fbbae5fae72d1e3f&qd=dq_0GghYhi9jngULGgishWK6LDkgbXhup4-ULwcj25E0Bk4z7ucQQ0mEG6Iu62NZpMzUp3lzzKWYb3ps8rmhB159vVpbJXybeUk050toB3Q&indpubnum=448947293830904&atk=1gh76cqe8i3rs800', 'https://www.indeed.com/viewjob?jk=303f0b9a5aa176df&qd=dq_0GghYhi9jngULGgishWK6LDkgbXhup4-ULwcj25E0Bk4z7ucQQ0mEG6Iu62NZpMzUp3lzzKWYb3ps8rmhB159vVpbJXybeUk050toB3Q&indpubnum=448947293830904&atk=1gh76cqe8i3rs800', 'https://www.indeed.com/viewjob?jk=f613e69382d51f73&qd=dq_0GghYhi9jngULGgishWK6LDkgbXhup4-ULwcj25E0Bk4z7ucQQ0mEG6Iu62NZpMzUp3lzzKWYb3ps8rmhB1lIJNBFbWLhPP1pets2cU0&indpubnum=448947293830904&atk=1gh76cmrpi3ou800', 'https://www.indeed.com/viewjob?jk=299d86592699a921&qd=dq_0GghYhi9jngULGgishWK6LDkgbXhup4-ULwcj25E0Bk4z7ucQQ0mEG6Iu62NZpMzUp3lzzKWYb3ps8rmhBxCmbn8mdEwc0cSJhSJGw4g&indpubnum=448947293830904&atk=1gh76cvpii3ou800', 'https://www.indeed.com/viewjob?jk=bdaeadefe27d6c9b&qd=dq_0GghYhi9jngULGgishWK6LDkgbXhup4-ULwcj25E0Bk4z7ucQQ0mEG6Iu62NZpMzUp3lzzKWYb3ps8rmhBwCsOETZBPHlcKipjcYZ-dU&indpubnum=448947293830904&atk=1gh76cuqlk7eq800', 'https://www.indeed.com/viewjob?jk=ec9b851082079726&qd=dq_0GghYhi9jngULGgishWK6LDkgbXhup4-ULwcj25E0Bk4z7ucQQ0mEG6Iu62NZpMzUp3lzzKWYb3ps8rmhB159vVpbJXybeUk050toB3Q&indpubnum=448947293830904&atk=1gh76cq7vk7eq800', 'https://www.indeed.com/viewjob?jk=4a4fe829439187df&qd=dq_0GghYhi9jngULGgishWK6LDkgbXhup4-ULwcj25E0Bk4z7ucQQ0mEG6Iu62NZpMzUp3lzzKWYb3ps8rmhB_RVOwFFh5ikHzr0yLNpwBw&indpubnum=448947293830904&atk=1gh76cre3g0nl800', 'https://www.indeed.com/viewjob?jk=e0dc1d07d3a93efe&qd=dq_0GghYhi9jngULGgishWK6LDkgbXhup4-ULwcj25E0Bk4z7ucQQ0mEG6Iu62NZpMzUp3lzzKWYb3ps8rmhB7VgXDJOSawbKdxcD_EUXjU&indpubnum=448947293830904&atk=1gh76cspoirro800', 'https://www.indeed.com/viewjob?jk=f7d0b08c9038cac4&qd=dq_0GghYhi9jngULGgishWK6LDkgbXhup4-ULwcj25E0Bk4z7ucQQ0mEG6Iu62NZpMzUp3lzzKWYb3ps8rmhBxCmbn8mdEwc0cSJhSJGw4g&indpubnum=448947293830904&atk=1gh76d0ifg0nl800', 'https://www.indeed.com/viewjob?jk=ee0fc3cf716feacf&qd=dq_0GghYhi9jngULGgishWK6LDkgbXhup4-ULwcj25E0Bk4z7ucQQ0mEG6Iu62NZpMzUp3lzzKWYb3ps8rmhB0jwqy70XsD6fkhVKp66AVI&indpubnum=448947293830904&atk=1gh76cpntir1j800', 'https://www.indeed.com/viewjob?jk=db6fb70eba0f83ee&qd=dq_0GghYhi9jngULGgishWK6LDkgbXhup4-ULwcj25E0Bk4z7ucQQ0mEG6Iu62NZpMzUp3lzzKWYb3ps8rmhB5Cm5gyD4fkMTDz1JtltejA&indpubnum=448947293830904&atk=1gh76ctqsj33i800', 'https://www.indeed.com/viewjob?jk=26a4698661579bdc&qd=dq_0GghYhi9jngULGgishWK6LDkgbXhup4-ULwcj25E0Bk4z7ucQQ0mEG6Iu62NZpMzUp3lzzKWYb3ps8rmhB6rQDPFVdpPRMw8wBLGI1xI&indpubnum=448947293830904&atk=1gh76cn9hk7iv800', 'https://www.indeed.com/viewjob?jk=7e7f94f1d353de27&qd=dq_0GghYhi9jngULGgishWK6LDkgbXhup4-ULwcj25E0Bk4z7ucQQ0mEG6Iu62NZpMzUp3lzzKWYb3ps8rmhB_7dyZHSE8HYqWT83q7-ON4&indpubnum=448947293830904&atk=1gh76co4tirro800', 'https://www.indeed.com/viewjob?jk=e8eaae4347001ff9&qd=dq_0GghYhi9jngULGgishWK6LDkgbXhup4-ULwcj25E0Bk4z7ucQQ0mEG6Iu62NZpMzUp3lzzKWYb3ps8rmhBxCmbn8mdEwc0cSJhSJGw4g&indpubnum=448947293830904&atk=1gh76d0bair1j800', 'https://www.indeed.com/viewjob?jk=d58acc81e8aacc2c&qd=dq_0GghYhi9jngULGgishWK6LDkgbXhup4-ULwcj25E0Bk4z7ucQQ0mEG6Iu62NZpMzUp3lzzKWYb3ps8rmhByXdQ4tvtkKVQ4WgiCF_4Vo&indpubnum=448947293830904&atk=1gh76csvhj33i800', 'https://www.indeed.com/viewjob?jk=b75502d6781a68ee&qd=dq_0GghYhi9jngULGgishWK6LDkgbXhup4-ULwcj25E0Bk4z7ucQQ0mEG6Iu62NZpMzUp3lzzKWYb3ps8rmhB5Cm5gyD4fkMTDz1JtltejA&indpubnum=448947293830904&atk=1gh76cu0si3rs800', 'https://www.indeed.com/viewjob?jk=b97f5a965bfcf617&qd=dq_0GghYhi9jngULGgishWK6LDkgbXhup4-ULwcj25E0Bk4z7ucQQ0mEG6Iu62NZpMzUp3lzzKWYb3ps8rmhB0jwqy70XsD6fkhVKp66AVI&indpubnum=448947293830904&atk=1gh76cpntir1j800', 'https://www.indeed.com/viewjob?jk=57e8497ec7fcfefe&qd=dq_0GghYhi9jngULGgishWK6LDkgbXhup4-ULwcj25E0Bk4z7ucQQ0mEG6Iu62NZpMzUp3lzzKWYb3ps8rmhByGlEyzVp5CSov_aKUA-FHs&indpubnum=448947293830904&atk=1gh76d2f2i3rs800', 'https://www.indeed.com/viewjob?jk=1a4e349e33cfac5e&qd=dq_0GghYhi9jngULGgishWK6LDkgbXhup4-ULwcj25E0Bk4z7ucQQ0mEG6Iu62NZpMzUp3lzzKWYb3ps8rmhB0jwqy70XsD6fkhVKp66AVI&indpubnum=448947293830904&atk=1gh76cpntir1j800', 'https://www.indeed.com/viewjob?jk=83e40b8cd41334e2&qd=dq_0GghYhi9jngULGgishWK6LDkgbXhup4-ULwcj25E0Bk4z7ucQQ0mEG6Iu62NZpMzUp3lzzKWYb3ps8rmhB1lIJNBFbWLhPP1pets2cU0&indpubnum=448947293830904&atk=1gh76cmmgj33i800', 'https://www.indeed.com/viewjob?jk=24d6b0703609fd6c&qd=dq_0GghYhi9jngULGgishWK6LDkgbXhup4-ULwcj25E0Bk4z7ucQQ0mEG6Iu62NZpMzUp3lzzKWYb3ps8rmhBwCsOETZBPHlcKipjcYZ-dU&indpubnum=448947293830904&atk=1gh76cvcai3ou800', 'https://www.indeed.com/viewjob?jk=84bf5c8d615a9ba4&qd=dq_0GghYhi9jngULGgishWK6LDkgbXhup4-ULwcj25E0Bk4z7ucQQ0mEG6Iu62NZpMzUp3lzzKWYb3ps8rmhBxCmbn8mdEwc0cSJhSJGw4g&indpubnum=448947293830904&atk=1gh76d0ifg0nl800', 'https://www.indeed.com/viewjob?jk=217b05b22f8f1760&qd=dq_0GghYhi9jngULGgishWK6LDkgbXhup4-ULwcj25E0Bk4z7ucQQ0mEG6Iu62NZpMzUp3lzzKWYb3ps8rmhB_7dyZHSE8HYqWT83q7-ON4&indpubnum=448947293830904&atk=1gh76co4tirro800', 'https://www.indeed.com/viewjob?jk=dbb8b51fff1f5208&qd=dq_0GghYhi9jngULGgishWK6LDkgbXhup4-ULwcj25E0Bk4z7ucQQ0mEG6Iu62NZpMzUp3lzzKWYb3ps8rmhBxCmbn8mdEwc0cSJhSJGw4g&indpubnum=448947293830904&atk=1gh76d00ug0nl800', 'https://www.indeed.com/viewjob?jk=7af13a814c51cc58&qd=dq_0GghYhi9jngULGgishWK6LDkgbXhup4-ULwcj25E0Bk4z7ucQQ0mEG6Iu62NZpMzUp3lzzKWYb3ps8rmhBxCmbn8mdEwc0cSJhSJGw4g&indpubnum=448947293830904&atk=1gh76d0bair1j800', 'https://www.indeed.com/viewjob?jk=2f1f81f4e3583c81&qd=dq_0GghYhi9jngULGgishWK6LDkgbXhup4-ULwcj25E0Bk4z7ucQQ0mEG6Iu62NZpMzUp3lzzKWYb3ps8rmhB159vVpbJXybeUk050toB3Q&indpubnum=448947293830904&atk=1gh76cq7vk7eq800', 'https://www.indeed.com/viewjob?jk=18516d3e6cd8d341&qd=dq_0GghYhi9jngULGgishWK6LDkgbXhup4-ULwcj25E0Bk4z7ucQQ0mEG6Iu62NZpMzUp3lzzKWYb3ps8rmhB_7dyZHSE8HYqWT83q7-ON4&indpubnum=448947293830904&atk=1gh76cob5k7eq800', 'https://www.indeed.com/viewjob?jk=f8b95e8ad3b0e6c5&qd=dq_0GghYhi9jngULGgishWK6LDkgbXhup4-ULwcj25E0Bk4z7ucQQ0mEG6Iu62NZpMzUp3lzzKWYb3ps8rmhB_RVOwFFh5ikHzr0yLNpwBw&indpubnum=448947293830904&atk=1gh76cr7mi3ou800', 'https://www.indeed.com/viewjob?jk=ff56c96e3222eeca&qd=dq_0GghYhi9jngULGgishWK6LDkgbXhup4-ULwcj25E0Bk4z7ucQQ0mEG6Iu62NZpMzUp3lzzKWYb3ps8rmhBzMTg7BEw-C7--M7g71pN8E&indpubnum=448947293830904&atk=1gh76d2rtk7iv800', 'https://www.indeed.com/viewjob?jk=fe5a2f6bd940f9b4&qd=dq_0GghYhi9jngULGgishWK6LDkgbXhup4-ULwcj25E0Bk4z7ucQQ0mEG6Iu62NZpMzUp3lzzKWYb3ps8rmhByXdQ4tvtkKVQ4WgiCF_4Vo&indpubnum=448947293830904&atk=1gh76csvhj33i800', 'https://www.indeed.com/viewjob?jk=41a4e8d91002e400&qd=dq_0GghYhi9jngULGgishWK6LDkgbXhup4-ULwcj25E0Bk4z7ucQQ0mEG6Iu62NZpMzUp3lzzKWYb3ps8rmhB0yen-pxsGDm9QhN-SdyRuA&indpubnum=448947293830904&atk=1gh76d1hqi3rs800', 'https://www.indeed.com/viewjob?jk=f6d4ce589be56a00&qd=dq_0GghYhi9jngULGgishWK6LDkgbXhup4-ULwcj25E0Bk4z7ucQQ0mEG6Iu62NZpMzUp3lzzKWYb3ps8rmhB159vVpbJXybeUk050toB3Q&indpubnum=448947293830904&atk=1gh76cpu8i3rs800', 'https://www.indeed.com/viewjob?jk=28141e84b3e4a73d&qd=dq_0GghYhi9jngULGgishWK6LDkgbXhup4-ULwcj25E0Bk4z7ucQQ0mEG6Iu62NZpMzUp3lzzKWYb3ps8rmhB159vVpbJXybeUk050toB3Q&indpubnum=448947293830904&atk=1gh76cpu8i3rs800', 'https://www.indeed.com/viewjob?jk=0db4a96caf597f0c&qd=dq_0GghYhi9jngULGgishWK6LDkgbXhup4-ULwcj25E0Bk4z7ucQQ0mEG6Iu62NZpMzUp3lzzKWYb3ps8rmhB0yen-pxsGDm9QhN-SdyRuA&indpubnum=448947293830904&atk=1gh76d0tsk7iv800', 'https://www.indeed.com/viewjob?jk=ac5c929502622b81&qd=dq_0GghYhi9jngULGgishWK6LDkgbXhup4-ULwcj25E0Bk4z7ucQQ0mEG6Iu62NZpMzUp3lzzKWYb3ps8rmhB0yen-pxsGDm9QhN-SdyRuA&indpubnum=448947293830904&atk=1gh76d0tsk7iv800', 'https://www.indeed.com/viewjob?jk=930c696941da8c28&qd=dq_0GghYhi9jngULGgishWK6LDkgbXhup4-ULwcj25E0Bk4z7ucQQ0mEG6Iu62NZpMzUp3lzzKWYb3ps8rmhB1lIJNBFbWLhPP1pets2cU0&indpubnum=448947293830904&atk=1gh76cmmgj33i800', 'https://www.indeed.com/viewjob?jk=a7023c63af074587&qd=dq_0GghYhi9jngULGgishWK6LDkgbXhup4-ULwcj25E0Bk4z7ucQQ0mEG6Iu62NZpMzUp3lzzKWYb3ps8rmhB0jwqy70XsD6fkhVKp66AVI&indpubnum=448947293830904&atk=1gh76cpd6k7iv800', 'https://www.indeed.com/viewjob?jk=feaa2d4a2975cba2&qd=dq_0GghYhi9jngULGgishWK6LDkgbXhup4-ULwcj25E0Bk4z7ucQQ0mEG6Iu62NZpMzUp3lzzKWYb3ps8rmhBxCmbn8mdEwc0cSJhSJGw4g&indpubnum=448947293830904&atk=1gh76d0ifg0nl800', 'https://www.indeed.com/viewjob?jk=be37d71d439676db&qd=dq_0GghYhi9jngULGgishWK6LDkgbXhup4-ULwcj25E0Bk4z7ucQQ0mEG6Iu62NZpMzUp3lzzKWYb3ps8rmhB_7dyZHSE8HYqWT83q7-ON4&indpubnum=448947293830904&atk=1gh76cos3g0nl800', 'https://www.indeed.com/viewjob?jk=30ceb9d2f90660e3&qd=dq_0GghYhi9jngULGgishWK6LDkgbXhup4-ULwcj25E0Bk4z7ucQQ0mEG6Iu62NZpMzUp3lzzKWYb3ps8rmhB1lIJNBFbWLhPP1pets2cU0&indpubnum=448947293830904&atk=1gh76cmrpi3ou800', 'https://www.indeed.com/viewjob?jk=c0279c5b176a1251&qd=dq_0GghYhi9jngULGgishWK6LDkgbXhup4-ULwcj25E0Bk4z7ucQQ0mEG6Iu62NZpMzUp3lzzKWYb3ps8rmhB6rQDPFVdpPRMw8wBLGI1xI&indpubnum=448947293830904&atk=1gh76cnjsir1j800', 'https://www.indeed.com/viewjob?jk=5aeb1bf6f910756e&qd=dq_0GghYhi9jngULGgishWK6LDkgbXhup4-ULwcj25E0Bk4z7ucQQ0mEG6Iu62NZpMzUp3lzzKWYb3ps8rmhBxCmbn8mdEwc0cSJhSJGw4g&indpubnum=448947293830904&atk=1gh76cvpii3ou800', 'https://www.indeed.com/viewjob?jk=f9ee69d8003ffebb&qd=dq_0GghYhi9jngULGgishWK6LDkgbXhup4-ULwcj25E0Bk4z7ucQQ0mEG6Iu62NZpMzUp3lzzKWYb3ps8rmhB6rQDPFVdpPRMw8wBLGI1xI&indpubnum=448947293830904&atk=1gh76cn3oi3ou800', 'https://www.indeed.com/viewjob?jk=f2095ad960c801ae&qd=dq_0GghYhi9jngULGgishWK6LDkgbXhup4-ULwcj25E0Bk4z7ucQQ0mEG6Iu62NZpMzUp3lzzKWYb3ps8rmhB159vVpbJXybeUk050toB3Q&indpubnum=448947293830904&atk=1gh76cqe8i3rs800', 'https://www.indeed.com/viewjob?jk=413d034b3474d160&qd=dq_0GghYhi9jngULGgishWK6LDkgbXhup4-ULwcj25E0Bk4z7ucQQ0mEG6Iu62NZpMzUp3lzzKWYb3ps8rmhB6rQDPFVdpPRMw8wBLGI1xI&indpubnum=448947293830904&atk=1gh76cn3oi3ou800', 'https://www.indeed.com/viewjob?jk=57826c187e9dec5c&qd=dq_0GghYhi9jngULGgishWK6LDkgbXhup4-ULwcj25E0Bk4z7ucQQ0mEG6Iu62NZpMzUp3lzzKWYb3ps8rmhB6rQDPFVdpPRMw8wBLGI1xI&indpubnum=448947293830904&atk=1gh76cnpeir1j800', 'https://www.indeed.com/viewjob?jk=a1dad06a74037a41&qd=dq_0GghYhi9jngULGgishWK6LDkgbXhup4-ULwcj25E0Bk4z7ucQQ0mEG6Iu62NZpMzUp3lzzKWYb3ps8rmhB0yen-pxsGDm9QhN-SdyRuA&indpubnum=448947293830904&atk=1gh76d0tsk7iv800', 'https://www.indeed.com/viewjob?jk=63003a030b67b121&qd=dq_0GghYhi9jngULGgishWK6LDkgbXhup4-ULwcj25E0Bk4z7ucQQ0mEG6Iu62NZpMzUp3lzzKWYb3ps8rmhB6rQDPFVdpPRMw8wBLGI1xI&indpubnum=448947293830904&atk=1gh76cnjsir1j800', 'https://www.indeed.com/viewjob?jk=4978fa2ea6728923&qd=dq_0GghYhi9jngULGgishWK6LDkgbXhup4-ULwcj25E0Bk4z7ucQQ0mEG6Iu62NZpMzUp3lzzKWYb3ps8rmhByXdQ4tvtkKVQ4WgiCF_4Vo&indpubnum=448947293830904&atk=1gh76cte2irro800', 'https://www.indeed.com/viewjob?jk=1bdb5baacdc64af3&qd=dq_0GghYhi9jngULGgishWK6LDkgbXhup4-ULwcj25E0Bk4z7ucQQ0mEG6Iu62NZpMzUp3lzzKWYb3ps8rmhByXdQ4tvtkKVQ4WgiCF_4Vo&indpubnum=448947293830904&atk=1gh76ct8c2i9a000']\n"
     ]
    }
   ],
   "source": [
    "def get_recommendation_by_similarity():\n",
    "    data = pd.read_csv(\"final_db.csv\")\n",
    "    description = list(data[\"description\"])\n",
    "    description.append(read_pdf())\n",
    "    doc = description\n",
    "    sents, tokenized_sents = preprocess(doc)\n",
    "    tf_idf = compute_tf_idf(tokenized_sents, use_idf = True)\n",
    "    similarity=1-pairwise_distances(tf_idf, metric = 'cosine')\n",
    "    similarity_to_resume = similarity[len(similarity) - 1,:][:len(similarity) - 1]\n",
    "    index = np.argsort(np.array(similarity_to_resume))[-100:]\n",
    "    job_urls = list(map(lambda idx:data[\"url\"][idx], index))\n",
    "\n",
    "    return job_urls\n",
    "\n",
    "    \n",
    "\n",
    "print(get_recommendation_by_similarity())"
   ]
  },
  {
   "cell_type": "code",
   "execution_count": 102,
   "metadata": {},
   "outputs": [
    {
     "ename": "TypeError",
     "evalue": "__init__() got an unexpected keyword argument 'n_iter_'",
     "output_type": "error",
     "traceback": [
      "\u001b[0;31m---------------------------------------------------------------------------\u001b[0m",
      "\u001b[0;31mTypeError\u001b[0m                                 Traceback (most recent call last)",
      "\u001b[1;32m/Users/chenfeiyu/Documents/660/BIA-660_Project/scrap.ipynb Cell 16'\u001b[0m in \u001b[0;36m<cell line: 49>\u001b[0;34m()\u001b[0m\n\u001b[1;32m     <a href='vscode-notebook-cell:/Users/chenfeiyu/Documents/660/BIA-660_Project/scrap.ipynb#ch0000017?line=44'>45</a>\u001b[0m     job_urls \u001b[39m=\u001b[39m \u001b[39mlist\u001b[39m(\u001b[39mmap\u001b[39m(\u001b[39mlambda\u001b[39;00m idx:data[\u001b[39m\"\u001b[39m\u001b[39murl\u001b[39m\u001b[39m\"\u001b[39m][idx], same_cluster))\n\u001b[1;32m     <a href='vscode-notebook-cell:/Users/chenfeiyu/Documents/660/BIA-660_Project/scrap.ipynb#ch0000017?line=46'>47</a>\u001b[0m     \u001b[39mreturn\u001b[39;00m job_urls\n\u001b[0;32m---> <a href='vscode-notebook-cell:/Users/chenfeiyu/Documents/660/BIA-660_Project/scrap.ipynb#ch0000017?line=48'>49</a>\u001b[0m \u001b[39mprint\u001b[39m(recommend_by_cluster())\n",
      "\u001b[1;32m/Users/chenfeiyu/Documents/660/BIA-660_Project/scrap.ipynb Cell 16'\u001b[0m in \u001b[0;36mrecommend_by_cluster\u001b[0;34m()\u001b[0m\n\u001b[1;32m     <a href='vscode-notebook-cell:/Users/chenfeiyu/Documents/660/BIA-660_Project/scrap.ipynb#ch0000017?line=27'>28</a>\u001b[0m num_clusters\u001b[39m=\u001b[39m\u001b[39m10\u001b[39m\n\u001b[1;32m     <a href='vscode-notebook-cell:/Users/chenfeiyu/Documents/660/BIA-660_Project/scrap.ipynb#ch0000017?line=29'>30</a>\u001b[0m \u001b[39m# clusterer = KMeansClusterer(num_clusters, cosine_distance, repeats = 40)\u001b[39;00m\n\u001b[1;32m     <a href='vscode-notebook-cell:/Users/chenfeiyu/Documents/660/BIA-660_Project/scrap.ipynb#ch0000017?line=30'>31</a>\u001b[0m \u001b[39m# clusters = clusterer.cluster(dtm.toarray(), assign_clusters = True)\u001b[39;00m\n\u001b[0;32m---> <a href='vscode-notebook-cell:/Users/chenfeiyu/Documents/660/BIA-660_Project/scrap.ipynb#ch0000017?line=31'>32</a>\u001b[0m km \u001b[39m=\u001b[39m KMeans(n_clusters\u001b[39m=\u001b[39;49mnum_clusters, n_init\u001b[39m=\u001b[39;49m\u001b[39m20\u001b[39;49m, random_state \u001b[39m=\u001b[39;49m \u001b[39m42\u001b[39;49m, n_iter_ \u001b[39m=\u001b[39;49m \u001b[39m20\u001b[39;49m)\\\n\u001b[1;32m     <a href='vscode-notebook-cell:/Users/chenfeiyu/Documents/660/BIA-660_Project/scrap.ipynb#ch0000017?line=32'>33</a>\u001b[0m \u001b[39m.\u001b[39mfit(dtm[:\u001b[39m-\u001b[39m\u001b[39m1\u001b[39m])\n\u001b[1;32m     <a href='vscode-notebook-cell:/Users/chenfeiyu/Documents/660/BIA-660_Project/scrap.ipynb#ch0000017?line=33'>34</a>\u001b[0m clusters \u001b[39m=\u001b[39m km\u001b[39m.\u001b[39mlabels_\u001b[39m.\u001b[39mtolist()\n\u001b[1;32m     <a href='vscode-notebook-cell:/Users/chenfeiyu/Documents/660/BIA-660_Project/scrap.ipynb#ch0000017?line=35'>36</a>\u001b[0m resume_dtm \u001b[39m=\u001b[39m dtm[\u001b[39m-\u001b[39m\u001b[39m1\u001b[39m]\n",
      "\u001b[0;31mTypeError\u001b[0m: __init__() got an unexpected keyword argument 'n_iter_'"
     ]
    }
   ],
   "source": [
    "def recommend_by_cluster():\n",
    "    data = pd.read_csv(\"final_db.csv\")\n",
    "    skills = []\n",
    "    for i in range(len(data)):\n",
    "        skills_p = ast.literal_eval(data.skills[i])\n",
    "        skills_str = \"\"\n",
    "        for skill in skills_p:\n",
    "            skills_str = skills_str + skill + \", \"\n",
    "        if skills_str == \"\":\n",
    "            skills.append(\"none\")\n",
    "        else:\n",
    "            skills.append(skills_str[0:len(skills_str) - 2])\n",
    "\n",
    "    vocab = tokenize(read_pdf())\n",
    "    requires = []\n",
    "    for word in vocab:\n",
    "        if word in keywords:\n",
    "            requires.append(word)\n",
    "    requires = list(set(requires))\n",
    "    resume_skill = \"\"\n",
    "    for skill in requires:\n",
    "            resume_skill = resume_skill + skill + \", \"\n",
    "    skills.append(resume_skill[0:len(resume_skill) - 2])\n",
    "\n",
    "    tfidf_vect = TfidfVectorizer(stop_words=\"english\", min_df=1)\n",
    "    dtm = tfidf_vect.fit_transform(skills)\n",
    "\n",
    "    num_clusters=10\n",
    "\n",
    "    # clusterer = KMeansClusterer(num_clusters, cosine_distance, repeats = 40)\n",
    "    # clusters = clusterer.cluster(dtm.toarray(), assign_clusters = True)\n",
    "    km = KMeans(n_clusters=num_clusters, n_init=20, random_state = 42)\\\n",
    "    .fit(dtm[:-1])\n",
    "    clusters = km.labels_.tolist()\n",
    "    \n",
    "    resume_dtm = dtm[-1]\n",
    "    pred = km.predict(resume_dtm)\n",
    "\n",
    "\n",
    "    same_cluster = []\n",
    "    for i in range(len(clusters)):\n",
    "        if clusters[i] == pred:\n",
    "            same_cluster.append(i)\n",
    "\n",
    "    job_urls = list(map(lambda idx:data[\"url\"][idx], same_cluster))\n",
    "\n",
    "    return job_urls\n",
    "\n",
    "print(recommend_by_cluster())\n",
    "\n",
    "    "
   ]
  }
 ],
 "metadata": {
  "interpreter": {
   "hash": "b36852e87d1cbbd6c26ab8e7b3c8b6efc5490282603c123d4442cd4db72eb730"
  },
  "kernelspec": {
   "display_name": "Python 3.9.12 ('base')",
   "language": "python",
   "name": "python3"
  },
  "language_info": {
   "codemirror_mode": {
    "name": "ipython",
    "version": 3
   },
   "file_extension": ".py",
   "mimetype": "text/x-python",
   "name": "python",
   "nbconvert_exporter": "python",
   "pygments_lexer": "ipython3",
   "version": "3.9.12"
  },
  "orig_nbformat": 4,
  "vscode": {
   "interpreter": {
    "hash": "046fafec1ff600f90b822c3ce660687157f5f07f7eaa634e34ca861dd36e448c"
   }
  }
 },
 "nbformat": 4,
 "nbformat_minor": 2
}
